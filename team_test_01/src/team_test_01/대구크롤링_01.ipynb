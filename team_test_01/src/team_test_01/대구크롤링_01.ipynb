{
 "cells": [
  {
   "cell_type": "code",
   "execution_count": 4,
   "metadata": {},
   "outputs": [
    {
     "name": "stdout",
     "output_type": "stream",
     "text": [
      "Requirement already satisfied: selenium in c:\\users\\sm09\\anaconda3\\lib\\site-packages (3.141.0)\n",
      "Requirement already satisfied: urllib3 in c:\\users\\sm09\\anaconda3\\lib\\site-packages (from selenium) (1.24.1)\n"
     ]
    }
   ],
   "source": [
    "!pip install selenium"
   ]
  },
  {
   "cell_type": "code",
   "execution_count": 3,
   "metadata": {},
   "outputs": [],
   "source": [
    "import requests as req\n",
    "\n",
    "import pandas as pd\n",
    "from selenium import webdriver as wb\n",
    "from bs4 import BeautifulSoup as bs\n",
    "import time "
   ]
  },
  {
   "cell_type": "code",
   "execution_count": 5,
   "metadata": {},
   "outputs": [],
   "source": [
    "\n",
    "\n",
    "driver = wb.Chrome()\n",
    "url = \"http://www.wheeltour.or.kr/sightsee/list\"\n",
    "\n",
    "driver.get(url)"
   ]
  },
  {
   "cell_type": "code",
   "execution_count": 6,
   "metadata": {},
   "outputs": [],
   "source": [
    "soup = bs(driver.page_source, 'html.parser')\n"
   ]
  },
  {
   "cell_type": "markdown",
   "metadata": {},
   "source": [
    "### 넘버 > 아직 안함 / 딱히 필요없음"
   ]
  },
  {
   "cell_type": "markdown",
   "metadata": {},
   "source": [
    "num_tag_list = soup.select(\"tbody > tr> td\")\n",
    "\n",
    "print (num_tag_list , '  \\n\\n\\n\\n', len(num_tag_list))\n"
   ]
  },
  {
   "cell_type": "markdown",
   "metadata": {},
   "source": [
    "### ================"
   ]
  },
  {
   "cell_type": "markdown",
   "metadata": {},
   "source": [
    "### 이름, 주소, 픽토그램 전부 가져옴"
   ]
  },
  {
   "cell_type": "code",
   "execution_count": 7,
   "metadata": {
    "scrolled": true
   },
   "outputs": [
    {
     "data": {
      "text/plain": [
       "[<div><strong>수창청춘맨숀</strong></div>, <div>대구광역시 중구 달성로 22길 27</div>, <div>\n",
       " <img alt=\"픽토그램\" src=\"/layout/images/icon/bbs_picto_1.gif\"/>\n",
       " <img alt=\"픽토그램\" src=\"/layout/images/icon/bbs_picto_2.gif\"/>\n",
       " <img alt=\"픽토그램\" src=\"/layout/images/icon/bbs_picto_3.gif\"/>\n",
       " <img alt=\"픽토그램\" src=\"/layout/images/icon/bbs_picto_6.gif\"/>\n",
       " <img alt=\"픽토그램\" src=\"/layout/images/icon/bbs_picto_7.gif\"/>\n",
       " </div>, <div><strong>대구예술발전소</strong></div>, <div>대구광역시 중구 달성로 22길 31-12</div>, <div>\n",
       " <img alt=\"픽토그램\" src=\"/layout/images/icon/bbs_picto_1.gif\"/>\n",
       " <img alt=\"픽토그램\" src=\"/layout/images/icon/bbs_picto_2.gif\"/>\n",
       " <img alt=\"픽토그램\" src=\"/layout/images/icon/bbs_picto_3.gif\"/>\n",
       " <img alt=\"픽토그램\" src=\"/layout/images/icon/bbs_picto_6.gif\"/>\n",
       " <img alt=\"픽토그램\" src=\"/layout/images/icon/bbs_picto_7.gif\"/>\n",
       " </div>, <div><strong>진천선사유적공원</strong></div>, <div>대구광역시 달서구 진천동 470번지</div>, <div>\n",
       " <img alt=\"픽토그램\" src=\"/layout/images/icon/bbs_picto_1.gif\"/>\n",
       " <img alt=\"픽토그램\" src=\"/layout/images/icon/bbs_picto_6.gif\"/>\n",
       " <img alt=\"픽토그램\" src=\"/layout/images/icon/bbs_picto_7.gif\"/>\n",
       " <img alt=\"픽토그램\" src=\"/layout/images/icon/bbs_picto_8.gif\"/>\n",
       " </div>, <div><strong>아양기찻길</strong></div>, <div>대구광역시 동구 해동로 82</div>, <div>\n",
       " <img alt=\"픽토그램\" src=\"/layout/images/icon/bbs_picto_6.gif\"/>\n",
       " <img alt=\"픽토그램\" src=\"/layout/images/icon/bbs_picto_7.gif\"/>\n",
       " </div>, <div><strong>옹기종기행복마을</strong></div>, <div>대구광역시 동구 입석동 932-15</div>, <div>\n",
       " <img alt=\"픽토그램\" src=\"/layout/images/icon/bbs_picto_6.gif\"/>\n",
       " <img alt=\"픽토그램\" src=\"/layout/images/icon/bbs_picto_7.gif\"/>\n",
       " </div>, <div><strong>경찰역사체험관</strong></div>, <div>대구광역시 중구 경상감영길 55(대구중부경찰서 내)</div>, <div>\n",
       " <img alt=\"픽토그램\" src=\"/layout/images/icon/bbs_picto_6.gif\"/>\n",
       " <img alt=\"픽토그램\" src=\"/layout/images/icon/bbs_picto_7.gif\"/>\n",
       " </div>, <div><strong>향촌문화관</strong></div>, <div>대구광역시 중구 중앙대로 449</div>, <div>\n",
       " <img alt=\"픽토그램\" src=\"/layout/images/icon/bbs_picto_1.gif\"/>\n",
       " <img alt=\"픽토그램\" src=\"/layout/images/icon/bbs_picto_2.gif\"/>\n",
       " <img alt=\"픽토그램\" src=\"/layout/images/icon/bbs_picto_5.gif\"/>\n",
       " <img alt=\"픽토그램\" src=\"/layout/images/icon/bbs_picto_6.gif\"/>\n",
       " <img alt=\"픽토그램\" src=\"/layout/images/icon/bbs_picto_7.gif\"/>\n",
       " <img alt=\"픽토그램\" src=\"/layout/images/icon/bbs_picto_8.gif\"/>\n",
       " </div>, <div><strong>대구콘서트하우스(구.대구시민회관)</strong></div>, <div>대구광역시 중구 태평로 141</div>, <div>\n",
       " <img alt=\"픽토그램\" src=\"/layout/images/icon/bbs_picto_1.gif\"/>\n",
       " <img alt=\"픽토그램\" src=\"/layout/images/icon/bbs_picto_2.gif\"/>\n",
       " <img alt=\"픽토그램\" src=\"/layout/images/icon/bbs_picto_3.gif\"/>\n",
       " <img alt=\"픽토그램\" src=\"/layout/images/icon/bbs_picto_6.gif\"/>\n",
       " <img alt=\"픽토그램\" src=\"/layout/images/icon/bbs_picto_7.gif\"/>\n",
       " </div>, <div><strong>희움일본군 '위안부' 역사관</strong></div>, <div>대구광역시 중구 경상감영길 50</div>, <div>\n",
       " <img alt=\"픽토그램\" src=\"/layout/images/icon/bbs_picto_1.gif\"/>\n",
       " <img alt=\"픽토그램\" src=\"/layout/images/icon/bbs_picto_2.gif\"/>\n",
       " <img alt=\"픽토그램\" src=\"/layout/images/icon/bbs_picto_6.gif\"/>\n",
       " </div>, <div><strong>대구삼성라이온즈파크</strong></div>, <div>대구광역시 수성구 야구전설로 1</div>, <div>\n",
       " <img alt=\"픽토그램\" src=\"/layout/images/icon/bbs_picto_1.gif\"/>\n",
       " <img alt=\"픽토그램\" src=\"/layout/images/icon/bbs_picto_2.gif\"/>\n",
       " <img alt=\"픽토그램\" src=\"/layout/images/icon/bbs_picto_3.gif\"/>\n",
       " <img alt=\"픽토그램\" src=\"/layout/images/icon/bbs_picto_6.gif\"/>\n",
       " <img alt=\"픽토그램\" src=\"/layout/images/icon/bbs_picto_7.gif\"/>\n",
       " <img alt=\"픽토그램\" src=\"/layout/images/icon/bbs_picto_8.gif\"/>\n",
       " </div>]"
      ]
     },
     "execution_count": 7,
     "metadata": {},
     "output_type": "execute_result"
    }
   ],
   "source": [
    "total_tag_list = soup.select(\"tbody > tr> td >a> div >div >div\")\n",
    "\n",
    "total_tag_list"
   ]
  },
  {
   "cell_type": "code",
   "execution_count": 8,
   "metadata": {},
   "outputs": [
    {
     "data": {
      "text/plain": [
       "30"
      ]
     },
     "execution_count": 8,
     "metadata": {},
     "output_type": "execute_result"
    }
   ],
   "source": [
    "len(total_tag_list)"
   ]
  },
  {
   "cell_type": "code",
   "execution_count": 9,
   "metadata": {
    "scrolled": true
   },
   "outputs": [
    {
     "data": {
      "text/plain": [
       "['수창청춘맨숀',\n",
       " '대구광역시 중구 달성로 22길 27',\n",
       " '\\n\\n\\n\\n\\n\\n',\n",
       " '대구예술발전소',\n",
       " '대구광역시 중구 달성로 22길 31-12',\n",
       " '\\n\\n\\n\\n\\n\\n',\n",
       " '진천선사유적공원',\n",
       " '대구광역시 달서구 진천동 470번지',\n",
       " '\\n\\n\\n\\n\\n',\n",
       " '아양기찻길',\n",
       " '대구광역시 동구 해동로 82',\n",
       " '\\n\\n\\n',\n",
       " '옹기종기행복마을',\n",
       " '대구광역시 동구 입석동 932-15',\n",
       " '\\n\\n\\n',\n",
       " '경찰역사체험관',\n",
       " '대구광역시 중구 경상감영길 55(대구중부경찰서 내)',\n",
       " '\\n\\n\\n',\n",
       " '향촌문화관',\n",
       " '대구광역시 중구 중앙대로 449',\n",
       " '\\n\\n\\n\\n\\n\\n\\n',\n",
       " '대구콘서트하우스(구.대구시민회관)',\n",
       " '대구광역시 중구 태평로 141',\n",
       " '\\n\\n\\n\\n\\n\\n',\n",
       " \"희움일본군 '위안부' 역사관\",\n",
       " '대구광역시 중구 경상감영길 50',\n",
       " '\\n\\n\\n\\n',\n",
       " '대구삼성라이온즈파크',\n",
       " '대구광역시 수성구 야구전설로 1',\n",
       " '\\n\\n\\n\\n\\n\\n\\n']"
      ]
     },
     "execution_count": 9,
     "metadata": {},
     "output_type": "execute_result"
    }
   ],
   "source": [
    "total_list = []\n",
    "\n",
    "for to in ( total_tag_list):\n",
    "    total_list.append(to.text)\n",
    "    \n",
    "total_list"
   ]
  },
  {
   "cell_type": "code",
   "execution_count": 75,
   "metadata": {},
   "outputs": [
    {
     "data": {
      "text/plain": [
       "<div>\n",
       "<img alt=\"픽토그램\" src=\"/layout/images/icon/bbs_picto_1.gif\"/>\n",
       "<img alt=\"픽토그램\" src=\"/layout/images/icon/bbs_picto_2.gif\"/>\n",
       "<img alt=\"픽토그램\" src=\"/layout/images/icon/bbs_picto_3.gif\"/>\n",
       "<img alt=\"픽토그램\" src=\"/layout/images/icon/bbs_picto_6.gif\"/>\n",
       "<img alt=\"픽토그램\" src=\"/layout/images/icon/bbs_picto_7.gif\"/>\n",
       "</div>"
      ]
     },
     "execution_count": 75,
     "metadata": {},
     "output_type": "execute_result"
    }
   ],
   "source": [
    "total_tag_list[2]  # 일부 픽토그램만 가져와봄"
   ]
  },
  {
   "cell_type": "code",
   "execution_count": 10,
   "metadata": {},
   "outputs": [],
   "source": [
    "total_tag_list[2].get(\"src\")"
   ]
  },
  {
   "cell_type": "code",
   "execution_count": 11,
   "metadata": {},
   "outputs": [
    {
     "ename": "TypeError",
     "evalue": "'NoneType' object is not callable",
     "output_type": "error",
     "traceback": [
      "\u001b[1;31m---------------------------------------------------------------------------\u001b[0m",
      "\u001b[1;31mTypeError\u001b[0m                                 Traceback (most recent call last)",
      "\u001b[1;32m<ipython-input-11-72b2a410d65b>\u001b[0m in \u001b[0;36m<module>\u001b[1;34m\u001b[0m\n\u001b[1;32m----> 1\u001b[1;33m \u001b[0mtotal_tag_list\u001b[0m\u001b[1;33m[\u001b[0m\u001b[1;36m2\u001b[0m\u001b[1;33m]\u001b[0m\u001b[1;33m.\u001b[0m\u001b[0msplit\u001b[0m\u001b[1;33m(\u001b[0m\u001b[1;34m\".\"\u001b[0m\u001b[1;33m)\u001b[0m\u001b[1;33m\u001b[0m\u001b[1;33m\u001b[0m\u001b[0m\n\u001b[0m",
      "\u001b[1;31mTypeError\u001b[0m: 'NoneType' object is not callable"
     ]
    }
   ],
   "source": [
    "total_tag_list[2].split(\".\")"
   ]
  },
  {
   "cell_type": "code",
   "execution_count": 12,
   "metadata": {
    "scrolled": true
   },
   "outputs": [
    {
     "ename": "TypeError",
     "evalue": "'NoneType' object is not callable",
     "output_type": "error",
     "traceback": [
      "\u001b[1;31m---------------------------------------------------------------------------\u001b[0m",
      "\u001b[1;31mTypeError\u001b[0m                                 Traceback (most recent call last)",
      "\u001b[1;32m<ipython-input-12-72b2a410d65b>\u001b[0m in \u001b[0;36m<module>\u001b[1;34m\u001b[0m\n\u001b[1;32m----> 1\u001b[1;33m \u001b[0mtotal_tag_list\u001b[0m\u001b[1;33m[\u001b[0m\u001b[1;36m2\u001b[0m\u001b[1;33m]\u001b[0m\u001b[1;33m.\u001b[0m\u001b[0msplit\u001b[0m\u001b[1;33m(\u001b[0m\u001b[1;34m\".\"\u001b[0m\u001b[1;33m)\u001b[0m\u001b[1;33m\u001b[0m\u001b[1;33m\u001b[0m\u001b[0m\n\u001b[0m",
      "\u001b[1;31mTypeError\u001b[0m: 'NoneType' object is not callable"
     ]
    }
   ],
   "source": [
    "total_tag_list[2].split(\".\")"
   ]
  },
  {
   "cell_type": "code",
   "execution_count": 13,
   "metadata": {},
   "outputs": [
    {
     "ename": "KeyError",
     "evalue": "0",
     "output_type": "error",
     "traceback": [
      "\u001b[1;31m---------------------------------------------------------------------------\u001b[0m",
      "\u001b[1;31mKeyError\u001b[0m                                  Traceback (most recent call last)",
      "\u001b[1;32m<ipython-input-13-0e8d7cf8b08d>\u001b[0m in \u001b[0;36m<module>\u001b[1;34m\u001b[0m\n\u001b[0;32m      2\u001b[0m \u001b[1;33m\u001b[0m\u001b[0m\n\u001b[0;32m      3\u001b[0m \u001b[1;32mfor\u001b[0m \u001b[0mi\u001b[0m \u001b[1;33m,\u001b[0m \u001b[0mto\u001b[0m \u001b[1;32min\u001b[0m \u001b[0mzip\u001b[0m \u001b[1;33m(\u001b[0m \u001b[0mrange\u001b[0m\u001b[1;33m(\u001b[0m\u001b[0mlen\u001b[0m\u001b[1;33m(\u001b[0m\u001b[0mtotal_tag_list\u001b[0m\u001b[1;33m)\u001b[0m\u001b[1;33m)\u001b[0m \u001b[1;33m,\u001b[0m \u001b[0mtotal_tag_list\u001b[0m\u001b[1;33m)\u001b[0m \u001b[1;33m:\u001b[0m\u001b[1;33m\u001b[0m\u001b[1;33m\u001b[0m\u001b[0m\n\u001b[1;32m----> 4\u001b[1;33m     \u001b[0mtotal_list\u001b[0m \u001b[1;33m=\u001b[0m \u001b[0mto\u001b[0m\u001b[1;33m[\u001b[0m\u001b[0mi\u001b[0m\u001b[1;33m]\u001b[0m\u001b[1;33m.\u001b[0m\u001b[0msplit\u001b[0m\u001b[1;33m(\u001b[0m\u001b[1;34m\" \"\u001b[0m\u001b[1;33m)\u001b[0m\u001b[1;33m\u001b[0m\u001b[1;33m\u001b[0m\u001b[0m\n\u001b[0m\u001b[0;32m      5\u001b[0m \u001b[1;33m\u001b[0m\u001b[0m\n\u001b[0;32m      6\u001b[0m \u001b[0mtotal_list\u001b[0m\u001b[1;33m\u001b[0m\u001b[1;33m\u001b[0m\u001b[0m\n",
      "\u001b[1;32m~\\Anaconda3\\lib\\site-packages\\bs4\\element.py\u001b[0m in \u001b[0;36m__getitem__\u001b[1;34m(self, key)\u001b[0m\n\u001b[0;32m   1014\u001b[0m         \"\"\"tag[key] returns the value of the 'key' attribute for the tag,\n\u001b[0;32m   1015\u001b[0m         and throws an exception if it's not there.\"\"\"\n\u001b[1;32m-> 1016\u001b[1;33m         \u001b[1;32mreturn\u001b[0m \u001b[0mself\u001b[0m\u001b[1;33m.\u001b[0m\u001b[0mattrs\u001b[0m\u001b[1;33m[\u001b[0m\u001b[0mkey\u001b[0m\u001b[1;33m]\u001b[0m\u001b[1;33m\u001b[0m\u001b[1;33m\u001b[0m\u001b[0m\n\u001b[0m\u001b[0;32m   1017\u001b[0m \u001b[1;33m\u001b[0m\u001b[0m\n\u001b[0;32m   1018\u001b[0m     \u001b[1;32mdef\u001b[0m \u001b[0m__iter__\u001b[0m\u001b[1;33m(\u001b[0m\u001b[0mself\u001b[0m\u001b[1;33m)\u001b[0m\u001b[1;33m:\u001b[0m\u001b[1;33m\u001b[0m\u001b[1;33m\u001b[0m\u001b[0m\n",
      "\u001b[1;31mKeyError\u001b[0m: 0"
     ]
    }
   ],
   "source": [
    "total_list = []\n",
    "\n",
    "for i , to in zip ( range(len(total_tag_list)) , total_tag_list) : \n",
    "    total_list = to[i].split(\" \")\n",
    "    \n",
    "total_list"
   ]
  },
  {
   "cell_type": "markdown",
   "metadata": {},
   "source": [
    "## ================="
   ]
  },
  {
   "cell_type": "code",
   "execution_count": 14,
   "metadata": {
    "scrolled": true
   },
   "outputs": [
    {
     "data": {
      "text/plain": [
       "[<img alt=\"픽토그램\" src=\"/layout/images/icon/bbs_picto_1.gif\"/>,\n",
       " <img alt=\"픽토그램\" src=\"/layout/images/icon/bbs_picto_2.gif\"/>,\n",
       " <img alt=\"픽토그램\" src=\"/layout/images/icon/bbs_picto_3.gif\"/>,\n",
       " <img alt=\"픽토그램\" src=\"/layout/images/icon/bbs_picto_6.gif\"/>,\n",
       " <img alt=\"픽토그램\" src=\"/layout/images/icon/bbs_picto_7.gif\"/>,\n",
       " <img alt=\"픽토그램\" src=\"/layout/images/icon/bbs_picto_1.gif\"/>,\n",
       " <img alt=\"픽토그램\" src=\"/layout/images/icon/bbs_picto_2.gif\"/>,\n",
       " <img alt=\"픽토그램\" src=\"/layout/images/icon/bbs_picto_3.gif\"/>,\n",
       " <img alt=\"픽토그램\" src=\"/layout/images/icon/bbs_picto_6.gif\"/>,\n",
       " <img alt=\"픽토그램\" src=\"/layout/images/icon/bbs_picto_7.gif\"/>,\n",
       " <img alt=\"픽토그램\" src=\"/layout/images/icon/bbs_picto_1.gif\"/>,\n",
       " <img alt=\"픽토그램\" src=\"/layout/images/icon/bbs_picto_6.gif\"/>,\n",
       " <img alt=\"픽토그램\" src=\"/layout/images/icon/bbs_picto_7.gif\"/>,\n",
       " <img alt=\"픽토그램\" src=\"/layout/images/icon/bbs_picto_8.gif\"/>,\n",
       " <img alt=\"픽토그램\" src=\"/layout/images/icon/bbs_picto_6.gif\"/>,\n",
       " <img alt=\"픽토그램\" src=\"/layout/images/icon/bbs_picto_7.gif\"/>,\n",
       " <img alt=\"픽토그램\" src=\"/layout/images/icon/bbs_picto_6.gif\"/>,\n",
       " <img alt=\"픽토그램\" src=\"/layout/images/icon/bbs_picto_7.gif\"/>,\n",
       " <img alt=\"픽토그램\" src=\"/layout/images/icon/bbs_picto_6.gif\"/>,\n",
       " <img alt=\"픽토그램\" src=\"/layout/images/icon/bbs_picto_7.gif\"/>,\n",
       " <img alt=\"픽토그램\" src=\"/layout/images/icon/bbs_picto_1.gif\"/>,\n",
       " <img alt=\"픽토그램\" src=\"/layout/images/icon/bbs_picto_2.gif\"/>,\n",
       " <img alt=\"픽토그램\" src=\"/layout/images/icon/bbs_picto_5.gif\"/>,\n",
       " <img alt=\"픽토그램\" src=\"/layout/images/icon/bbs_picto_6.gif\"/>,\n",
       " <img alt=\"픽토그램\" src=\"/layout/images/icon/bbs_picto_7.gif\"/>,\n",
       " <img alt=\"픽토그램\" src=\"/layout/images/icon/bbs_picto_8.gif\"/>,\n",
       " <img alt=\"픽토그램\" src=\"/layout/images/icon/bbs_picto_1.gif\"/>,\n",
       " <img alt=\"픽토그램\" src=\"/layout/images/icon/bbs_picto_2.gif\"/>,\n",
       " <img alt=\"픽토그램\" src=\"/layout/images/icon/bbs_picto_3.gif\"/>,\n",
       " <img alt=\"픽토그램\" src=\"/layout/images/icon/bbs_picto_6.gif\"/>,\n",
       " <img alt=\"픽토그램\" src=\"/layout/images/icon/bbs_picto_7.gif\"/>,\n",
       " <img alt=\"픽토그램\" src=\"/layout/images/icon/bbs_picto_1.gif\"/>,\n",
       " <img alt=\"픽토그램\" src=\"/layout/images/icon/bbs_picto_2.gif\"/>,\n",
       " <img alt=\"픽토그램\" src=\"/layout/images/icon/bbs_picto_6.gif\"/>,\n",
       " <img alt=\"픽토그램\" src=\"/layout/images/icon/bbs_picto_1.gif\"/>,\n",
       " <img alt=\"픽토그램\" src=\"/layout/images/icon/bbs_picto_2.gif\"/>,\n",
       " <img alt=\"픽토그램\" src=\"/layout/images/icon/bbs_picto_3.gif\"/>,\n",
       " <img alt=\"픽토그램\" src=\"/layout/images/icon/bbs_picto_6.gif\"/>,\n",
       " <img alt=\"픽토그램\" src=\"/layout/images/icon/bbs_picto_7.gif\"/>,\n",
       " <img alt=\"픽토그램\" src=\"/layout/images/icon/bbs_picto_8.gif\"/>]"
      ]
     },
     "execution_count": 14,
     "metadata": {},
     "output_type": "execute_result"
    }
   ],
   "source": [
    "src_total_tag_list = soup.select(\"div>div>div>img\")\n",
    "src_total_tag_list"
   ]
  },
  {
   "cell_type": "code",
   "execution_count": 15,
   "metadata": {},
   "outputs": [],
   "source": [
    "src_total_list =[]"
   ]
  },
  {
   "cell_type": "code",
   "execution_count": 16,
   "metadata": {
    "scrolled": true
   },
   "outputs": [
    {
     "data": {
      "text/plain": [
       "['/layout/images/icon/bbs_picto_1.gif',\n",
       " '/layout/images/icon/bbs_picto_2.gif',\n",
       " '/layout/images/icon/bbs_picto_3.gif',\n",
       " '/layout/images/icon/bbs_picto_6.gif',\n",
       " '/layout/images/icon/bbs_picto_7.gif',\n",
       " '/layout/images/icon/bbs_picto_1.gif',\n",
       " '/layout/images/icon/bbs_picto_2.gif',\n",
       " '/layout/images/icon/bbs_picto_3.gif',\n",
       " '/layout/images/icon/bbs_picto_6.gif',\n",
       " '/layout/images/icon/bbs_picto_7.gif',\n",
       " '/layout/images/icon/bbs_picto_1.gif',\n",
       " '/layout/images/icon/bbs_picto_6.gif',\n",
       " '/layout/images/icon/bbs_picto_7.gif',\n",
       " '/layout/images/icon/bbs_picto_8.gif',\n",
       " '/layout/images/icon/bbs_picto_6.gif',\n",
       " '/layout/images/icon/bbs_picto_7.gif',\n",
       " '/layout/images/icon/bbs_picto_6.gif',\n",
       " '/layout/images/icon/bbs_picto_7.gif',\n",
       " '/layout/images/icon/bbs_picto_6.gif',\n",
       " '/layout/images/icon/bbs_picto_7.gif',\n",
       " '/layout/images/icon/bbs_picto_1.gif',\n",
       " '/layout/images/icon/bbs_picto_2.gif',\n",
       " '/layout/images/icon/bbs_picto_5.gif',\n",
       " '/layout/images/icon/bbs_picto_6.gif',\n",
       " '/layout/images/icon/bbs_picto_7.gif',\n",
       " '/layout/images/icon/bbs_picto_8.gif',\n",
       " '/layout/images/icon/bbs_picto_1.gif',\n",
       " '/layout/images/icon/bbs_picto_2.gif',\n",
       " '/layout/images/icon/bbs_picto_3.gif',\n",
       " '/layout/images/icon/bbs_picto_6.gif',\n",
       " '/layout/images/icon/bbs_picto_7.gif',\n",
       " '/layout/images/icon/bbs_picto_1.gif',\n",
       " '/layout/images/icon/bbs_picto_2.gif',\n",
       " '/layout/images/icon/bbs_picto_6.gif',\n",
       " '/layout/images/icon/bbs_picto_1.gif',\n",
       " '/layout/images/icon/bbs_picto_2.gif',\n",
       " '/layout/images/icon/bbs_picto_3.gif',\n",
       " '/layout/images/icon/bbs_picto_6.gif',\n",
       " '/layout/images/icon/bbs_picto_7.gif',\n",
       " '/layout/images/icon/bbs_picto_8.gif']"
      ]
     },
     "execution_count": 16,
     "metadata": {},
     "output_type": "execute_result"
    }
   ],
   "source": [
    "\n",
    "\n",
    "for to in src_total_tag_list :\n",
    "    src_total_list.append(to.get(\"src\"))\n",
    "    \n",
    "src_total_list"
   ]
  },
  {
   "cell_type": "code",
   "execution_count": 17,
   "metadata": {},
   "outputs": [
    {
     "data": {
      "text/plain": [
       "'3'"
      ]
     },
     "execution_count": 17,
     "metadata": {},
     "output_type": "execute_result"
    }
   ],
   "source": [
    "\n",
    "split_01=src_total_list[2].split(\"_\")\n",
    "split_01\n",
    "\n",
    "split_02= split_01[2].split(\".\")\n",
    "split_02\n",
    "\n",
    "split_02[0]"
   ]
  },
  {
   "cell_type": "markdown",
   "metadata": {},
   "source": [
    "# 이방법 V "
   ]
  },
  {
   "cell_type": "markdown",
   "metadata": {},
   "source": [
    "### _ 으로 split > . 으로 split > 0 번째만 뽑아서 저장\n"
   ]
  },
  {
   "cell_type": "code",
   "execution_count": 18,
   "metadata": {
    "scrolled": true
   },
   "outputs": [
    {
     "data": {
      "text/plain": [
       "['1',\n",
       " '2',\n",
       " '3',\n",
       " '6',\n",
       " '7',\n",
       " '1',\n",
       " '2',\n",
       " '3',\n",
       " '6',\n",
       " '7',\n",
       " '1',\n",
       " '6',\n",
       " '7',\n",
       " '8',\n",
       " '6',\n",
       " '7',\n",
       " '6',\n",
       " '7',\n",
       " '6',\n",
       " '7',\n",
       " '1',\n",
       " '2',\n",
       " '5',\n",
       " '6',\n",
       " '7',\n",
       " '8',\n",
       " '1',\n",
       " '2',\n",
       " '3',\n",
       " '6',\n",
       " '7',\n",
       " '1',\n",
       " '2',\n",
       " '6',\n",
       " '1',\n",
       " '2',\n",
       " '3',\n",
       " '6',\n",
       " '7',\n",
       " '8']"
      ]
     },
     "execution_count": 18,
     "metadata": {},
     "output_type": "execute_result"
    }
   ],
   "source": [
    "src_num_two_split_list = []\n",
    "\n",
    "for to in src_total_list :\n",
    "    \n",
    "    split_01=to.split(\"_\")\n",
    "    split_02= split_01[2].split(\".\")\n",
    "    \n",
    "    src_num_two_split_list.append(split_02[0])\n",
    "    \n",
    "src_num_two_split_list"
   ]
  },
  {
   "cell_type": "markdown",
   "metadata": {},
   "source": [
    "### . 으로 split "
   ]
  },
  {
   "cell_type": "markdown",
   "metadata": {},
   "source": [
    "src_list = []\n",
    "for to in src_total_list :\n",
    "    src_list.append(to.split(\".\"))\n",
    "src_list[2]"
   ]
  },
  {
   "cell_type": "code",
   "execution_count": 19,
   "metadata": {
    "scrolled": true
   },
   "outputs": [
    {
     "ename": "NameError",
     "evalue": "name 'src_list' is not defined",
     "output_type": "error",
     "traceback": [
      "\u001b[1;31m---------------------------------------------------------------------------\u001b[0m",
      "\u001b[1;31mNameError\u001b[0m                                 Traceback (most recent call last)",
      "\u001b[1;32m<ipython-input-19-f8b2b207d591>\u001b[0m in \u001b[0;36m<module>\u001b[1;34m\u001b[0m\n\u001b[0;32m      2\u001b[0m \u001b[0msrc_num_tag_list\u001b[0m \u001b[1;33m=\u001b[0m \u001b[1;33m[\u001b[0m\u001b[1;33m]\u001b[0m\u001b[1;33m\u001b[0m\u001b[1;33m\u001b[0m\u001b[0m\n\u001b[0;32m      3\u001b[0m \u001b[1;33m\u001b[0m\u001b[0m\n\u001b[1;32m----> 4\u001b[1;33m \u001b[1;32mfor\u001b[0m \u001b[0mlist\u001b[0m \u001b[1;32min\u001b[0m \u001b[1;33m(\u001b[0m \u001b[0msrc_list\u001b[0m\u001b[1;33m)\u001b[0m \u001b[1;33m:\u001b[0m\u001b[1;33m\u001b[0m\u001b[1;33m\u001b[0m\u001b[0m\n\u001b[0m\u001b[0;32m      5\u001b[0m \u001b[1;31m#     str_test = list[i][:1]\u001b[0m\u001b[1;33m\u001b[0m\u001b[1;33m\u001b[0m\u001b[1;33m\u001b[0m\u001b[0m\n\u001b[0;32m      6\u001b[0m \u001b[1;31m#     src_num_list.append(src_num_list)\u001b[0m\u001b[1;33m\u001b[0m\u001b[1;33m\u001b[0m\u001b[1;33m\u001b[0m\u001b[0m\n",
      "\u001b[1;31mNameError\u001b[0m: name 'src_list' is not defined"
     ]
    }
   ],
   "source": [
    "str_test=\"\"\n",
    "src_num_tag_list = []\n",
    "\n",
    "for list in ( src_list) :\n",
    "#     str_test = list[i][:1]\n",
    "#     src_num_list.append(src_num_list)\n",
    "    \n",
    "    src_num_tag_list.append(list[:1])\n",
    "    \n",
    "    \n",
    "    \n",
    "src_num_tag_list"
   ]
  },
  {
   "cell_type": "code",
   "execution_count": 20,
   "metadata": {},
   "outputs": [
    {
     "ename": "IndexError",
     "evalue": "list index out of range",
     "output_type": "error",
     "traceback": [
      "\u001b[1;31m---------------------------------------------------------------------------\u001b[0m",
      "\u001b[1;31mIndexError\u001b[0m                                Traceback (most recent call last)",
      "\u001b[1;32m<ipython-input-20-396d68dd74a2>\u001b[0m in \u001b[0;36m<module>\u001b[1;34m\u001b[0m\n\u001b[1;32m----> 1\u001b[1;33m \u001b[0msrc_num_tag_list\u001b[0m\u001b[1;33m[\u001b[0m\u001b[1;36m1\u001b[0m\u001b[1;33m]\u001b[0m\u001b[1;33m[\u001b[0m\u001b[1;33m:\u001b[0m\u001b[1;33m]\u001b[0m\u001b[1;33m\u001b[0m\u001b[1;33m\u001b[0m\u001b[0m\n\u001b[0m",
      "\u001b[1;31mIndexError\u001b[0m: list index out of range"
     ]
    }
   ],
   "source": [
    "src_num_tag_list[1][:]"
   ]
  },
  {
   "cell_type": "code",
   "execution_count": 21,
   "metadata": {},
   "outputs": [
    {
     "ename": "NameError",
     "evalue": "name 'scr_num_tag_list' is not defined",
     "output_type": "error",
     "traceback": [
      "\u001b[1;31m---------------------------------------------------------------------------\u001b[0m",
      "\u001b[1;31mNameError\u001b[0m                                 Traceback (most recent call last)",
      "\u001b[1;32m<ipython-input-21-b7303373a463>\u001b[0m in \u001b[0;36m<module>\u001b[1;34m\u001b[0m\n\u001b[0;32m      1\u001b[0m \u001b[0mscr_num_list\u001b[0m\u001b[1;33m=\u001b[0m\u001b[1;33m[\u001b[0m\u001b[1;33m]\u001b[0m\u001b[1;33m\u001b[0m\u001b[1;33m\u001b[0m\u001b[0m\n\u001b[0;32m      2\u001b[0m \u001b[1;33m\u001b[0m\u001b[0m\n\u001b[1;32m----> 3\u001b[1;33m \u001b[1;32mfor\u001b[0m \u001b[0mlist\u001b[0m \u001b[1;32min\u001b[0m \u001b[0mscr_num_tag_list\u001b[0m \u001b[1;33m:\u001b[0m\u001b[1;33m\u001b[0m\u001b[1;33m\u001b[0m\u001b[0m\n\u001b[0m\u001b[0;32m      4\u001b[0m     \u001b[0mscr_num_list\u001b[0m\u001b[1;33m.\u001b[0m\u001b[0mappend\u001b[0m\u001b[1;33m(\u001b[0m\u001b[0mlist\u001b[0m\u001b[1;33m[\u001b[0m\u001b[1;33m-\u001b[0m\u001b[1;36m1\u001b[0m\u001b[1;33m]\u001b[0m\u001b[1;33m)\u001b[0m\u001b[1;33m\u001b[0m\u001b[1;33m\u001b[0m\u001b[0m\n",
      "\u001b[1;31mNameError\u001b[0m: name 'scr_num_tag_list' is not defined"
     ]
    }
   ],
   "source": [
    "scr_num_list=[]\n",
    "\n",
    "for list in scr_num_tag_list :\n",
    "    scr_num_list.append(list[-1])"
   ]
  },
  {
   "cell_type": "code",
   "execution_count": null,
   "metadata": {},
   "outputs": [],
   "source": []
  },
  {
   "cell_type": "code",
   "execution_count": null,
   "metadata": {},
   "outputs": [],
   "source": []
  },
  {
   "cell_type": "code",
   "execution_count": null,
   "metadata": {},
   "outputs": [],
   "source": []
  },
  {
   "cell_type": "code",
   "execution_count": null,
   "metadata": {},
   "outputs": [],
   "source": []
  },
  {
   "cell_type": "code",
   "execution_count": 105,
   "metadata": {},
   "outputs": [
    {
     "data": {
      "text/plain": [
       "['/layout/images/icon/bbs_picto_3']"
      ]
     },
     "execution_count": 105,
     "metadata": {},
     "output_type": "execute_result"
    }
   ],
   "source": [
    "src_list[2][ :1]"
   ]
  },
  {
   "cell_type": "code",
   "execution_count": null,
   "metadata": {},
   "outputs": [],
   "source": []
  },
  {
   "cell_type": "code",
   "execution_count": null,
   "metadata": {},
   "outputs": [],
   "source": [
    "src_total_list = []\n",
    "\n",
    "for to in total_tag_list :\n",
    "    src_total_list.append\n",
    "total_tag_list \n"
   ]
  },
  {
   "cell_type": "code",
   "execution_count": 39,
   "metadata": {},
   "outputs": [
    {
     "data": {
      "text/plain": [
       "['수창청춘맨숀',\n",
       " '대구예술발전소',\n",
       " '진천선사유적공원',\n",
       " '아양기찻길',\n",
       " '옹기종기행복마을',\n",
       " '경찰역사체험관',\n",
       " '향촌문화관',\n",
       " '대구콘서트하우스(구.대구시민회관)',\n",
       " \"희움일본군 '위안부' 역사관\",\n",
       " '대구삼성라이온즈파크']"
      ]
     },
     "execution_count": 39,
     "metadata": {},
     "output_type": "execute_result"
    }
   ],
   "source": [
    "name_list = []\n",
    "addr_list = []\n",
    "\n",
    "for i , to in zip ( range(len(total_list)) ,  total_list ) :\n",
    "    if (i%3==0) :\n",
    "        name_list.append(to)\n",
    "    elif (i%3==1) :\n",
    "        addr_list.append(to)\n",
    "\n",
    "name_list"
   ]
  },
  {
   "cell_type": "code",
   "execution_count": 40,
   "metadata": {},
   "outputs": [
    {
     "data": {
      "text/plain": [
       "['대구광역시 중구 달성로 22길 27',\n",
       " '대구광역시 중구 달성로 22길 31-12',\n",
       " '대구광역시 달서구 진천동 470번지',\n",
       " '대구광역시 동구 해동로 82',\n",
       " '대구광역시 동구 입석동 932-15',\n",
       " '대구광역시 중구 경상감영길 55(대구중부경찰서 내)',\n",
       " '대구광역시 중구 중앙대로 449',\n",
       " '대구광역시 중구 태평로 141',\n",
       " '대구광역시 중구 경상감영길 50',\n",
       " '대구광역시 수성구 야구전설로 1']"
      ]
     },
     "execution_count": 40,
     "metadata": {},
     "output_type": "execute_result"
    }
   ],
   "source": [
    "\n",
    "addr_list"
   ]
  },
  {
   "cell_type": "code",
   "execution_count": 51,
   "metadata": {},
   "outputs": [],
   "source": [
    "src_tag_list = soup.select(\"ul.left_quick_banner img\")\n"
   ]
  },
  {
   "cell_type": "code",
   "execution_count": 125,
   "metadata": {},
   "outputs": [
    {
     "data": {
      "text/plain": [
       "[<img alt=\"장애인화장실\" src=\"/layout/images/sub/pic_sub_01.gif\"/>,\n",
       " <img alt=\"엘리베이터\" src=\"/layout/images/sub/pic_sub_02.gif\"/>,\n",
       " <img alt=\"장애인전용주차장\" src=\"/layout/images/sub/pic_sub_03.gif\"/>,\n",
       " <img alt=\"휠체어리프트\" src=\"/layout/images/sub/pic_sub_04.gif\"/>,\n",
       " <img alt=\"휠체어대여소\" src=\"/layout/images/sub/pic_sub_05.gif\"/>,\n",
       " <img alt=\"이용가능시설\" src=\"/layout/images/sub/pic_sub_06.gif\"/>,\n",
       " <img alt=\"경사로\" src=\"/layout/images/sub/pic_sub_07.gif\"/>,\n",
       " <img alt=\"관광안내소\" src=\"/layout/images/sub/pic_sub_08.gif\"/>,\n",
       " <img alt=\"숙박시설\" src=\"/layout/images/sub/pic_sub_09.gif\"/>,\n",
       " <img alt=\"음식점\" src=\"/layout/images/sub/pic_sub_10.gif\"/>,\n",
       " <img alt=\"입식테이블\" src=\"/layout/images/sub/pic_sub_11.gif\"/>,\n",
       " <img alt=\"장애인객실\" src=\"/layout/images/sub/pic_sub_12.gif\"/>]"
      ]
     },
     "execution_count": 125,
     "metadata": {},
     "output_type": "execute_result"
    }
   ],
   "source": [
    "src_tag_list"
   ]
  },
  {
   "cell_type": "code",
   "execution_count": 58,
   "metadata": {},
   "outputs": [],
   "source": [
    "src_list = []\n",
    "\n",
    "for i, list in zip(  range(len(src_tag_list)) , src_tag_list) :\n",
    "    tmp=list.get(\"src\")\n",
    "    src_list.append(tmp)\n",
    "    \n"
   ]
  },
  {
   "cell_type": "code",
   "execution_count": 63,
   "metadata": {},
   "outputs": [
    {
     "data": {
      "text/plain": [
       "'01.gif'"
      ]
     },
     "execution_count": 63,
     "metadata": {},
     "output_type": "execute_result"
    }
   ],
   "source": [
    "src_num_list =[]\n",
    "\n",
    "src_list[0][-6:]"
   ]
  },
  {
   "cell_type": "code",
   "execution_count": null,
   "metadata": {},
   "outputs": [],
   "source": []
  },
  {
   "cell_type": "code",
   "execution_count": null,
   "metadata": {},
   "outputs": [],
   "source": []
  },
  {
   "cell_type": "code",
   "execution_count": null,
   "metadata": {},
   "outputs": [],
   "source": []
  }
 ],
 "metadata": {
  "kernelspec": {
   "display_name": "Python 3",
   "language": "python",
   "name": "python3"
  },
  "language_info": {
   "codemirror_mode": {
    "name": "ipython",
    "version": 3
   },
   "file_extension": ".py",
   "mimetype": "text/x-python",
   "name": "python",
   "nbconvert_exporter": "python",
   "pygments_lexer": "ipython3",
   "version": "3.7.3"
  }
 },
 "nbformat": 4,
 "nbformat_minor": 2
}
